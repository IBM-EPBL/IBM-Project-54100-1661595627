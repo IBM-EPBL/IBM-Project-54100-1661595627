{
  "cells": [
    {
      "cell_type": "code",
      "execution_count": null,
      "id": "af8a1902",
      "metadata": {
        "id": "af8a1902"
      },
      "outputs": [],
      "source": [
        "from ibm_watson_machine_learning import APIClient\n",
        "wml_credentials={\n",
        "                \"url\":\"https://us-south.ml.cloud.ibm.com\",\n",
        "                \"apikey\":\"o6-O-gzl2Z0Hz-9MW4qWW7w69zs653NVAssTw-8Qzbjv\"\n",
        "                }\n",
        "client=APIClient(wml_credentials)"
      ]
    },
    {
      "cell_type": "code",
      "execution_count": null,
      "id": "74e9380d",
      "metadata": {
        "id": "74e9380d"
      },
      "outputs": [],
      "source": [
        "def guid_from_space_name(client,space_name):\n",
        "    space=client.spaces.get_details()\n",
        "    return(next(item for item in space['resources'] if item['entity'][\"name\"] == space_name)['metadata']['id'])"
      ]
    },
    {
      "cell_type": "code",
      "execution_count": null,
      "id": "541e9300",
      "metadata": {
        "id": "541e9300",
        "outputId": "579b18a3-fa40-43aa-912f-8bd39d695894"
      },
      "outputs": [
        {
          "name": "stdout",
          "output_type": "stream",
          "text": [
            "Space UID = 4d322604-f8b8-40ed-8294-aee769939be4\n"
          ]
        }
      ],
      "source": [
        "space_uid = guid_from_space_name(client,'Forest-Fire')\n",
        "print(\"Space UID = \" + space_uid)"
      ]
    },
    {
      "cell_type": "code",
      "execution_count": null,
      "id": "9235fb09",
      "metadata": {
        "id": "9235fb09",
        "outputId": "b40816b2-c7f5-438d-ee08-ac074a394af1"
      },
      "outputs": [
        {
          "data": {
            "text/plain": [
              "'SUCCESS'"
            ]
          },
          "execution_count": 4,
          "metadata": {},
          "output_type": "execute_result"
        }
      ],
      "source": [
        "client.set.default_space(space_uid)"
      ]
    },
    {
      "cell_type": "code",
      "execution_count": null,
      "id": "11e1db81",
      "metadata": {
        "id": "11e1db81"
      },
      "outputs": [],
      "source": [
        "client.repository.download(\"e712b07b-08d6-47d3-9e98-d92a91080274\",'forest.tar.gz')"
      ]
    },
    {
      "cell_type": "code",
      "execution_count": null,
      "id": "8a40d386",
      "metadata": {
        "id": "8a40d386"
      },
      "outputs": [],
      "source": []
    }
  ],
  "metadata": {
    "kernelspec": {
      "display_name": "Python 3 (ipykernel)",
      "language": "python",
      "name": "python3"
    },
    "language_info": {
      "codemirror_mode": {
        "name": "ipython",
        "version": 3
      },
      "file_extension": ".py",
      "mimetype": "text/x-python",
      "name": "python",
      "nbconvert_exporter": "python",
      "pygments_lexer": "ipython3",
      "version": "3.9.12"
    },
    "colab": {
      "provenance": []
    }
  },
  "nbformat": 4,
  "nbformat_minor": 5
}