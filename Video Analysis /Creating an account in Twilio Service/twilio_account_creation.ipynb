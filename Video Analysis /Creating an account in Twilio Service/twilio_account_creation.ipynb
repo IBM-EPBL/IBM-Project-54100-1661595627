{
  "nbformat": 4,
  "nbformat_minor": 0,
  "metadata": {
    "colab": {
      "provenance": [],
      "collapsed_sections": []
    },
    "kernelspec": {
      "name": "python3",
      "display_name": "Python 3"
    },
    "language_info": {
      "name": "python"
    }
  },
  "cells": [
    {
      "cell_type": "code",
      "execution_count": null,
      "metadata": {
        "id": "YZpMBy7WTujK"
      },
      "outputs": [],
      "source": [
        "account_sid = 'AC50d663c8a7c2d8b35b1fc09dfda93bda'\n",
        "auth_token = '86f345babfa094d1015a0e1137dbb679'\n",
        "client = Client(account_sid, auth_token)\n",
        "\n",
        "message = client.messages \\\n",
        "    .create(\n",
        "         body='Forest fire is detected , stay alert',\n",
        "         from_='+15095194905',\n",
        "         to='+916369659356'\n",
        "     )\n",
        "\n",
        "print(message.sid)"
      ]
    }
  ]
}