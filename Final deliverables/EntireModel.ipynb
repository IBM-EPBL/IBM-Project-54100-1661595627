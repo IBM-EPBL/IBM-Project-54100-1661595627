{
  "cells": [
    {
      "cell_type": "markdown",
      "id": "55b18d86",
      "metadata": {
        "id": "55b18d86"
      },
      "source": [
        "# Image Preprocessing"
      ]
    },
    {
      "cell_type": "code",
      "execution_count": null,
      "id": "47041c84",
      "metadata": {
        "id": "47041c84"
      },
      "outputs": [],
      "source": [
        "import keras\n",
        "from keras.preprocessing.image import ImageDataGenerator"
      ]
    },
    {
      "cell_type": "code",
      "execution_count": null,
      "id": "c32a592c",
      "metadata": {
        "id": "c32a592c"
      },
      "outputs": [],
      "source": [
        "import matplotlib.pyplot as plt\n",
        "import numpy as np"
      ]
    },
    {
      "cell_type": "markdown",
      "id": "113f38ae",
      "metadata": {
        "id": "113f38ae"
      },
      "source": [
        "## Define The Parameters /Arguments For ImageDataGenerator Class"
      ]
    },
    {
      "cell_type": "code",
      "execution_count": null,
      "id": "0a63823e",
      "metadata": {
        "id": "0a63823e"
      },
      "outputs": [],
      "source": [
        "batch_size = 32\n",
        "\n",
        "train_datagen = ImageDataGenerator(\n",
        "    shear_range=0.2,\n",
        "    rotation_range=180,\n",
        "    zoom_range=0.2,\n",
        "    horizontal_flip=True,\n",
        ")\n",
        "\n",
        "val_datagen = ImageDataGenerator(\n",
        "    rescale=1./255\n",
        ")"
      ]
    },
    {
      "cell_type": "markdown",
      "id": "d18876c4",
      "metadata": {
        "id": "d18876c4"
      },
      "source": [
        "## Applying ImageDataGenerator Functionality To Trainset And Testset"
      ]
    },
    {
      "cell_type": "code",
      "execution_count": null,
      "id": "6651a140",
      "metadata": {
        "id": "6651a140",
        "outputId": "14f51619-2f09-47ba-e900-de1280a97308"
      },
      "outputs": [
        {
          "name": "stdout",
          "output_type": "stream",
          "text": [
            "Found 435 images belonging to 2 classes.\n",
            "Found 121 images belonging to 2 classes.\n"
          ]
        }
      ],
      "source": [
        "train_generator = train_datagen.flow_from_directory(\n",
        "    'train_set/',\n",
        "    target_size=(150, 150),\n",
        "    batch_size=batch_size,\n",
        "    class_mode='binary'\n",
        ")\n",
        "\n",
        "val_generator = val_datagen.flow_from_directory(\n",
        "    'test_set/',\n",
        "    target_size=(150, 150),\n",
        "    batch_size=batch_size,\n",
        "    class_mode='binary'\n",
        ")"
      ]
    },
    {
      "cell_type": "markdown",
      "id": "12901b3c",
      "metadata": {
        "id": "12901b3c"
      },
      "source": [
        "# Model Building\n",
        "\n",
        "\n",
        "### Importing Libraries"
      ]
    },
    {
      "cell_type": "code",
      "execution_count": null,
      "id": "3e8ecdf3",
      "metadata": {
        "id": "3e8ecdf3"
      },
      "outputs": [],
      "source": [
        "from keras.models import Sequential\n",
        "from keras.layers import Convolution2D\n",
        "from keras.layers import MaxPooling2D\n",
        "from keras.layers import Activation\n",
        "from keras.layers import Dropout\n",
        "from keras.layers import Flatten\n",
        "from keras.layers import Dense"
      ]
    },
    {
      "cell_type": "code",
      "execution_count": null,
      "id": "d7e2b651",
      "metadata": {
        "id": "d7e2b651"
      },
      "outputs": [],
      "source": [
        "model=Sequential()\n",
        "model.add(Convolution2D(32,(3,3),input_shape=(150,150,3)))\n",
        "model.add(Activation('relu'))\n",
        "model.add(MaxPooling2D(pool_size=(2,2)))\n",
        "model.add(Flatten())\n",
        "model.add(Dense(150))\n",
        "model.add(Activation('relu'))\n",
        "model.add(Dropout(0.5))\n",
        "model.add(Dense(1))\n",
        "model.add(Activation('sigmoid'))\n",
        "model.compile(\n",
        "    loss='binary_crossentropy',\n",
        "    optimizer='adam',\n",
        "    metrics=['accuracy']\n",
        ")"
      ]
    },
    {
      "cell_type": "code",
      "execution_count": null,
      "id": "e3c802ff",
      "metadata": {
        "id": "e3c802ff",
        "outputId": "e9a4f378-ae66-466b-b5f4-c6f5a9c18dee"
      },
      "outputs": [
        {
          "name": "stdout",
          "output_type": "stream",
          "text": [
            "Model: \"sequential\"\n",
            "_________________________________________________________________\n",
            "Layer (type)                 Output Shape              Param #   \n",
            "=================================================================\n",
            "conv2d (Conv2D)              (None, 148, 148, 32)      896       \n",
            "_________________________________________________________________\n",
            "activation (Activation)      (None, 148, 148, 32)      0         \n",
            "_________________________________________________________________\n",
            "max_pooling2d (MaxPooling2D) (None, 74, 74, 32)        0         \n",
            "_________________________________________________________________\n",
            "flatten (Flatten)            (None, 175232)            0         \n",
            "_________________________________________________________________\n",
            "dense (Dense)                (None, 150)               26284950  \n",
            "_________________________________________________________________\n",
            "activation_1 (Activation)    (None, 150)               0         \n",
            "_________________________________________________________________\n",
            "dropout (Dropout)            (None, 150)               0         \n",
            "_________________________________________________________________\n",
            "dense_1 (Dense)              (None, 1)                 151       \n",
            "_________________________________________________________________\n",
            "activation_2 (Activation)    (None, 1)                 0         \n",
            "=================================================================\n",
            "Total params: 26,285,997\n",
            "Trainable params: 26,285,997\n",
            "Non-trainable params: 0\n",
            "_________________________________________________________________\n"
          ]
        }
      ],
      "source": [
        "model.summary()"
      ]
    },
    {
      "cell_type": "code",
      "execution_count": null,
      "id": "19ae3dc0",
      "metadata": {
        "id": "19ae3dc0",
        "outputId": "95beb137-d1cc-4cee-df55-dd5b7e9a61c4"
      },
      "outputs": [
        {
          "name": "stdout",
          "output_type": "stream",
          "text": [
            "Epoch 1/10\n",
            "14/14 [==============================] - 20s 1s/step - loss: 1035.5992 - accuracy: 0.5954 - val_loss: 0.5520 - val_accuracy: 0.8430\n",
            "Epoch 2/10\n",
            "14/14 [==============================] - 15s 1s/step - loss: 121.5198 - accuracy: 0.8046 - val_loss: 0.2016 - val_accuracy: 0.9174\n",
            "Epoch 3/10\n",
            "14/14 [==============================] - 15s 1s/step - loss: 23.5166 - accuracy: 0.8276 - val_loss: 0.2799 - val_accuracy: 0.9669\n",
            "Epoch 4/10\n",
            "14/14 [==============================] - 15s 1s/step - loss: 2.9886 - accuracy: 0.8552 - val_loss: 0.3461 - val_accuracy: 0.9339\n",
            "Epoch 5/10\n",
            "14/14 [==============================] - 15s 1s/step - loss: 0.3443 - accuracy: 0.7839 - val_loss: 0.3864 - val_accuracy: 0.9504\n",
            "Epoch 6/10\n",
            "14/14 [==============================] - 15s 987ms/step - loss: 1.4259 - accuracy: 0.8529 - val_loss: 0.3754 - val_accuracy: 0.9421\n",
            "Epoch 7/10\n",
            "14/14 [==============================] - 15s 1s/step - loss: 0.3206 - accuracy: 0.8897 - val_loss: 0.3833 - val_accuracy: 0.9504\n",
            "Epoch 8/10\n",
            "14/14 [==============================] - 14s 1s/step - loss: 0.4532 - accuracy: 0.8943 - val_loss: 0.4119 - val_accuracy: 0.9339\n",
            "Epoch 9/10\n",
            "14/14 [==============================] - 15s 1s/step - loss: 5.0921 - accuracy: 0.8621 - val_loss: 0.3697 - val_accuracy: 0.9008\n",
            "Epoch 10/10\n",
            "14/14 [==============================] - 15s 1s/step - loss: 0.4495 - accuracy: 0.9034 - val_loss: 0.3670 - val_accuracy: 0.8843\n"
          ]
        },
        {
          "data": {
            "text/plain": [
              "<keras.callbacks.History at 0x20c874fafd0>"
            ]
          },
          "execution_count": 9,
          "metadata": {},
          "output_type": "execute_result"
        }
      ],
      "source": [
        "model.fit(train_generator,steps_per_epoch=14,\n",
        "          epochs=10,validation_data=val_generator\n",
        "          ,validation_steps=4)"
      ]
    },
    {
      "cell_type": "code",
      "execution_count": null,
      "id": "4f9502cc",
      "metadata": {
        "id": "4f9502cc"
      },
      "outputs": [],
      "source": [
        "model.save(\"forestfire.h5\")"
      ]
    },
    {
      "cell_type": "markdown",
      "id": "d06ded4a",
      "metadata": {
        "id": "d06ded4a"
      },
      "source": [
        "## CV2 Video Analysis"
      ]
    },
    {
      "cell_type": "code",
      "execution_count": null,
      "id": "9f64f27a",
      "metadata": {
        "id": "9f64f27a"
      },
      "outputs": [],
      "source": [
        "from keras.models import load_model\n",
        "from keras.preprocessing import image\n",
        "import numpy as np\n",
        "import cv2\n",
        "from PIL import Image, ImageOps"
      ]
    },
    {
      "cell_type": "code",
      "execution_count": null,
      "id": "837117e1",
      "metadata": {
        "id": "837117e1"
      },
      "outputs": [],
      "source": [
        "model=load_model(\"forest1.h5\")"
      ]
    },
    {
      "cell_type": "code",
      "execution_count": null,
      "id": "0ea7814c",
      "metadata": {
        "id": "0ea7814c",
        "outputId": "92525898-ccc8-4ab9-d315-fb6830c646cf"
      },
      "outputs": [
        {
          "data": {
            "text/plain": [
              "'Fire'"
            ]
          },
          "execution_count": 15,
          "metadata": {},
          "output_type": "execute_result"
        }
      ],
      "source": [
        "data=np.ndarray(shape=(1,150,150,3),dtype=np.float32)\n",
        "class_name=['Fire','No_Fire']\n",
        "img=image.load_img('train_set/forest/NoFire (1).bmp',target_size=(64,64))\n",
        "img_array = image.img_to_array(img)\n",
        "img_batch = np.expand_dims(img_array, axis=0)\n",
        "# x=np.expand_dims(x,axis=0)\n",
        "pred=model.predict(img_batch)\n",
        "index=np.argmax(pred)\n",
        "class_name[index]"
      ]
    },
    {
      "cell_type": "markdown",
      "id": "e625d16b",
      "metadata": {
        "id": "e625d16b"
      },
      "source": [
        "## Importing Twilio and Connecting Twilio Account "
      ]
    },
    {
      "cell_type": "code",
      "execution_count": null,
      "id": "5b03552f",
      "metadata": {
        "id": "5b03552f"
      },
      "outputs": [],
      "source": [
        "from twilio.rest import Client\n",
        "from playsound import playsound"
      ]
    },
    {
      "cell_type": "code",
      "execution_count": null,
      "id": "a4a8125f",
      "metadata": {
        "id": "a4a8125f"
      },
      "outputs": [],
      "source": [
        "model=load_model('forest1.h5')\n",
        "video=cv2.VideoCapture(0)\n",
        "name=['forest','with fire']"
      ]
    },
    {
      "cell_type": "code",
      "execution_count": null,
      "id": "671b27a5",
      "metadata": {
        "id": "671b27a5",
        "outputId": "fbd75204-e4cf-4177-ce27-6ff11752f6e6"
      },
      "outputs": [
        {
          "name": "stdout",
          "output_type": "stream",
          "text": [
            "SM66ac25dce14c53a89a912814d034dfaf\n",
            "Alert Message sent\n"
          ]
        }
      ],
      "source": [
        "account_sid='AC50d663c8a7c2d8b35b1fc09dfda93bda'\n",
        "auth_token='86f345babfa094d1015a0e1137dbb679'\n",
        "client =Client(account_sid,auth_token)\n",
        "message=client.messages \\\n",
        ".create(\n",
        "body='-------Forest Fire is detected,Stay Alert !!!--------',\n",
        "    from_='+19457581434',to='+916369 659 356')\n",
        "print(message.sid)\n",
        "print(\"Alert Message sent\")"
      ]
    },
    {
      "cell_type": "markdown",
      "id": "a3388106",
      "metadata": {
        "id": "a3388106"
      },
      "source": [
        "# predictions and Sending Alert Message"
      ]
    },
    {
      "cell_type": "code",
      "execution_count": null,
      "id": "6ebf7ca9",
      "metadata": {
        "id": "6ebf7ca9",
        "outputId": "cbf27c7f-6bb3-4669-c9a0-2502ad7379c0"
      },
      "outputs": [
        {
          "name": "stdout",
          "output_type": "stream",
          "text": [
            "SM200b2510df1efe889005ac80731425ff\n",
            "Fire detected\n",
            "Alert Message sent!\n"
          ]
        }
      ],
      "source": [
        "import cv2\n",
        "import numpy as np\n",
        "from keras.preprocessing import image\n",
        "from keras.models import load_model\n",
        "from twilio.rest import Client\n",
        "from playsound import playsound\n",
        "model=load_model('forest1.h5')\n",
        "video=cv2.VideoCapture(0)\n",
        "name=['forest','with fire']\n",
        "while(True):\n",
        "    ret,frame=video.read()\n",
        "    cv2.imshow('frame',frame)\n",
        "    cv2.imwrite('image.jpg',frame)\n",
        "    img=image.load_img('train_set/forest/NoFire (1).bmp',target_size=(64,64))\n",
        "    x=image.img_to_array(img)\n",
        "    x=np.expand_dims(x,axis=0)\n",
        "    pred=model.predict(x)\n",
        "    index=np.argmax(pred)\n",
        "    if index==0:\n",
        "        account_sid='AC50d663c8a7c2d8b35b1fc09dfda93bda'\n",
        "        auth_token='86f345babfa094d1015a0e1137dbb679'\n",
        "        client =Client(account_sid,auth_token)\n",
        "        message=client.messages \\\n",
        "        .create(body='-------Fire is detected,Stay Alert !!!--------',\n",
        "                from_='+19457581434',to='+916369 659 356')\n",
        "        print(message.sid)\n",
        "        print('Fire detected')\n",
        "        print(\"Alert Message sent!\")\n",
        "        playsound('tornado-siren.mp3')\n",
        "        \n",
        "    else:\n",
        "        print('No Danger')\n",
        "        cv2.imshow(\"image.jpg\",frame)\n",
        "        if cv2.waitkey(2)&0xff == ord('q'):\n",
        "            break\n",
        "video.release()\n",
        "cv2.destroyAllWindows()"
      ]
    },
    {
      "cell_type": "code",
      "execution_count": null,
      "id": "95dc2036",
      "metadata": {
        "id": "95dc2036"
      },
      "outputs": [],
      "source": []
    }
  ],
  "metadata": {
    "kernelspec": {
      "display_name": "Python 3",
      "language": "python",
      "name": "python3"
    },
    "language_info": {
      "codemirror_mode": {
        "name": "ipython",
        "version": 3
      },
      "file_extension": ".py",
      "mimetype": "text/x-python",
      "name": "python",
      "nbconvert_exporter": "python",
      "pygments_lexer": "ipython3",
      "version": "3.8.8"
    },
    "colab": {
      "provenance": []
    }
  },
  "nbformat": 4,
  "nbformat_minor": 5
}